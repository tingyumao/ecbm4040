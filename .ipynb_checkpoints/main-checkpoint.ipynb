{
 "cells": [
  {
   "cell_type": "code",
   "execution_count": 1,
   "metadata": {},
   "outputs": [],
   "source": [
    "import tensorflow as tf"
   ]
  },
  {
   "cell_type": "code",
   "execution_count": 2,
   "metadata": {
    "collapsed": true
   },
   "outputs": [],
   "source": [
    "## weigth variable\n",
    "def weight_variable(shape):\n",
    "    initial = tf.truncated_normal(shape, stddev=0.1)\n",
    "    return tf.Variable(initial)\n",
    "\n",
    "def bias_variable(shape):\n",
    "    initial = tf.constant(0.1, shape=shape)\n",
    "    return tf.Variable(initial)\n",
    "\n",
    "## layer\n",
    "def conv2d(x, W):\n",
    "    return tf.nn.conv2d(x, W, strides=[1, 1, 1, 1], padding='SAME')\n",
    "\n",
    "def max_pool_2x2(x):\n",
    "    return tf.nn.max_pool(x, ksize=[1, 2, 2, 1],\n",
    "                        strides=[1, 2, 2, 1], padding='SAME')"
   ]
  },
  {
   "cell_type": "code",
   "execution_count": null,
   "metadata": {
    "collapsed": true
   },
   "outputs": [],
   "source": [
    "# Begin the construction of neural network\n",
    "# Define input, weights, biases.\n",
    "image_size = 416\n",
    "image_channel = 3\n",
    "\n",
    "X = tf.placeholder(tf.float32, [None, image_size, image_size, image_channel])\n",
    "Y = tf.placeholder(tf.int64, [None, 13, 13, 425])\n",
    "\n",
    "weights = {\n",
    "    'conv1': weight_variable([3,3,3,32]),\n",
    "    # max pool 2x2\n",
    "    'conv2': weight_variable([3,3,32,64]),\n",
    "    # max pool 2x2\n",
    "    'conv3_1': weight_variable([3,3,64,128]),\n",
    "    'conv3_2': weight_variable([1,1,128,64]),\n",
    "    'conv3_3': weight_variable([3,3,64,128]),\n",
    "    # max pool 2x2\n",
    "    'conv4_1': weight_variable([3,3,128,256]),\n",
    "    'conv4_2': weight_variable([1,1,256,128]),\n",
    "    'conv4_3': weight_variable([3,3,128,256]),\n",
    "    # max pool 2x2\n",
    "    'conv5_1': weight_variable([3,3,256,512]),\n",
    "    'conv5_2': weight_variable([1,1,512,256]),\n",
    "    'conv5_3': weight_variable([3,3,256,512]),\n",
    "    'conv5_4': weight_variable([1,1,512,256]),\n",
    "    'conv5_5': weight_variable([3,3,256,512]),\n",
    "    # max pool 2x2\n",
    "    'conv6_1': weight_variable([3,3,512,1024]),\n",
    "    'conv6_2': weight_variable([1,1,1024,512]),\n",
    "    'conv6_3': weight_variable([3,3,512,1024]),\n",
    "    'conv6_4': weight_variable([1,1,1024,512]),\n",
    "    'conv6_5': weight_variable([3,3,512,1024]),\n",
    "    'conv6_6': weight_variable([3,3,1024,1024]),\n",
    "    'conv6_7': weight_variable([3,3,1024,1024]),\n",
    "    # route: conv5_5 -> conv7\n",
    "    'conv7': weight_variable([1,1,512,64]),\n",
    "    # reorg: conv7(26, 26, 64) reshape -> (13, 13, 256)  \n",
    "    # route: concatenate(conv7_reorg, conv6_7) -> conv8\n",
    "    'conv8': weight_variable([3,3,1280,1024]),\n",
    "    'conv9': weight_variable([1,1,1024,425]),\n",
    "    # detection layer\n",
    "}\n",
    "\n",
    "bias = {\n",
    "    'conv1': bias_variable([32]),\n",
    "    'conv2': bias_variable([64]),\n",
    "    \n",
    "    'conv3_1': bias_variable([128]),\n",
    "    'conv3_2': bias_variable([64]),\n",
    "    'conv3_3': bias_variable([128]),\n",
    "    \n",
    "    'conv4_1': bias_variable([256]),\n",
    "    'conv4_2': bias_variable([128]),\n",
    "    'conv4_3': bias_variable([256]),\n",
    "    \n",
    "    'conv5_1': bias_variable([512]),\n",
    "    'conv5_2': bias_variable([256]),\n",
    "    'conv5_3': bias_variable([512]),\n",
    "    'conv5_4': bias_variable([256]),\n",
    "    'conv5_5': bias_variable([512]),\n",
    "    \n",
    "    'conv6_1': bias_variable([1024]),\n",
    "    'conv6_2': bias_variable([512]),\n",
    "    'conv6_3': bias_variable([1024]),\n",
    "    'conv6_4': bias_variable([512]),\n",
    "    'conv6_5': bias_variable([1024]),\n",
    "    'conv6_6': bias_variable([1024]),\n",
    "    'conv6_7': bias_variable([1024]),\n",
    "    \n",
    "    'conv7': bias_variable([64]),\n",
    "    'conv8': bias_variable([1024]),\n",
    "    'conv9': bias_variable([425]),\n",
    "}"
   ]
  }
 ],
 "metadata": {
  "kernelspec": {
   "display_name": "Python 2",
   "language": "python",
   "name": "python2"
  },
  "language_info": {
   "codemirror_mode": {
    "name": "ipython",
    "version": 2
   },
   "file_extension": ".py",
   "mimetype": "text/x-python",
   "name": "python",
   "nbconvert_exporter": "python",
   "pygments_lexer": "ipython2",
   "version": "2.7.13"
  }
 },
 "nbformat": 4,
 "nbformat_minor": 2
}
